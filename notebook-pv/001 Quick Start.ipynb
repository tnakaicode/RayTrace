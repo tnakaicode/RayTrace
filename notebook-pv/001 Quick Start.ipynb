{
 "cells": [
  {
   "cell_type": "code",
   "execution_count": 7,
   "metadata": {},
   "outputs": [],
   "source": [
    "import logging\n",
    "# Some packages used by pvtrace are a little noisy\n",
    "logging.getLogger('trimesh').disabled = True\n",
    "logging.getLogger('shapely.geos').disabled = True\n",
    "import numpy as np\n",
    "from pvtrace import *\n",
    "#from tutorial_support import interact_ray"
   ]
  },
  {
   "cell_type": "code",
   "execution_count": 8,
   "metadata": {},
   "outputs": [],
   "source": [
    "def interact_ray(scene, vis):\n",
    "\n",
    "    ray_ids = []\n",
    "\n",
    "    def move_ray(x=0.0, y=0.0, z=0.0, theta=0.0, phi=0.0, nanometers=555.0):\n",
    "        # Clear old objects\n",
    "        [vis.remove_object(_id) for _id in ray_ids]\n",
    "\n",
    "        # Create new array with position from the interact UI\n",
    "        ray = Ray(\n",
    "            position=(x, y, z),\n",
    "            direction=(\n",
    "                np.sin(np.radians(theta)) * np.cos(np.radians(phi)),\n",
    "                np.sin(np.radians(theta)) * np.sin(np.radians(phi)),\n",
    "                np.cos(np.radians(theta))\n",
    "            ),\n",
    "            wavelength=nanometers\n",
    "        )\n",
    "\n",
    "        # Re-create the scene with the new ray but reuse the renderers\n",
    "        steps = photon_tracer.follow(scene, ray, maxsteps=10)\n",
    "        path, events = zip(*steps)\n",
    "        vis.render(scene)\n",
    "\n",
    "        # Remove old rays; add new rays\n",
    "        ray_ids.clear()\n",
    "        ray_ids.extend(vis.add_ray_path(path))\n",
    "\n",
    "    return interact(\n",
    "        move_ray,\n",
    "        x=(-0.6, 0.6, 0.01),\n",
    "        y=(-0.6, 0.6, 0.01),\n",
    "        z=(-0.6, 0.6, 0.01),\n",
    "        theta=(0, 180, 1),\n",
    "        phi=(0, 360, 1),\n",
    "        nanometers=(300, 800, 1)\n",
    "    )"
   ]
  },
  {
   "cell_type": "markdown",
   "metadata": {},
   "source": [
    "# Interactive ray tracing example\n",
    "\n",
    "Let's make a scene and use ipython widgets to move the starting point of rays.\n",
    "\n",
    "All scenes must have a **world node** which contains all other objects."
   ]
  },
  {
   "cell_type": "code",
   "execution_count": 9,
   "metadata": {},
   "outputs": [],
   "source": [
    "world = Node(\n",
    "    name=\"world (air)\",\n",
    "    geometry=Sphere(\n",
    "        radius=10.0,\n",
    "        material=Material(refractive_index=1.0),\n",
    "    )\n",
    ")\n",
    "sphere = Node(\n",
    "    name=\"sphere (glass)\",\n",
    "    geometry=Sphere(\n",
    "        radius=1.0,\n",
    "        material=Material(refractive_index=1.5),\n",
    "    ),\n",
    "    parent=world\n",
    ")\n",
    "scene = Scene(world)"
   ]
  },
  {
   "cell_type": "markdown",
   "metadata": {},
   "source": [
    "The scene is a large world sphere containing air with a smaller glass sphere inside and at the centre.\n",
    "\n",
    "---\n",
    "\n",
    "**Units**\n",
    "\n",
    "*pvtrace* does *not* assume units, they could be metres, kilometres or lightyears.\n",
    "\n",
    "---"
   ]
  },
  {
   "cell_type": "markdown",
   "metadata": {},
   "source": [
    "Use the MeshCat renderer to view the scene directly in the Jupyter notebook. The simplest scene just contains a Ray."
   ]
  },
  {
   "cell_type": "code",
   "execution_count": 10,
   "metadata": {},
   "outputs": [
    {
     "output_type": "error",
     "ename": "KeyboardInterrupt",
     "evalue": "",
     "traceback": [
      "\u001b[1;31m---------------------------------------------------------------------------\u001b[0m",
      "\u001b[1;31mKeyboardInterrupt\u001b[0m                         Traceback (most recent call last)",
      "\u001b[1;32m<ipython-input-10-4216b09a2415>\u001b[0m in \u001b[0;36m<module>\u001b[1;34m\u001b[0m\n\u001b[1;32m----> 1\u001b[1;33m \u001b[0mrenderer\u001b[0m \u001b[1;33m=\u001b[0m \u001b[0mMeshcatRenderer\u001b[0m\u001b[1;33m(\u001b[0m\u001b[0mwireframe\u001b[0m\u001b[1;33m=\u001b[0m\u001b[1;32mTrue\u001b[0m\u001b[1;33m)\u001b[0m\u001b[1;33m\u001b[0m\u001b[1;33m\u001b[0m\u001b[0m\n\u001b[0m\u001b[0;32m      2\u001b[0m \u001b[0mrenderer\u001b[0m\u001b[1;33m.\u001b[0m\u001b[0mrender\u001b[0m\u001b[1;33m(\u001b[0m\u001b[0mscene\u001b[0m\u001b[1;33m)\u001b[0m\u001b[1;33m\u001b[0m\u001b[1;33m\u001b[0m\u001b[0m\n\u001b[0;32m      3\u001b[0m \u001b[0mrenderer\u001b[0m\u001b[1;33m.\u001b[0m\u001b[0mvis\u001b[0m\u001b[1;33m.\u001b[0m\u001b[0mjupyter_cell\u001b[0m\u001b[1;33m(\u001b[0m\u001b[1;33m)\u001b[0m\u001b[1;33m\u001b[0m\u001b[1;33m\u001b[0m\u001b[0m\n",
      "\u001b[1;32mD:\\PC\\anaconda3\\lib\\site-packages\\pvtrace\\scene\\renderer.py\u001b[0m in \u001b[0;36m__init__\u001b[1;34m(self, zmq_url, max_histories, open_browser, wireframe, transparency, opacity, reflectivity)\u001b[0m\n\u001b[0;32m     36\u001b[0m     ):\n\u001b[0;32m     37\u001b[0m         \u001b[0msuper\u001b[0m\u001b[1;33m(\u001b[0m\u001b[0mMeshcatRenderer\u001b[0m\u001b[1;33m,\u001b[0m \u001b[0mself\u001b[0m\u001b[1;33m)\u001b[0m\u001b[1;33m.\u001b[0m\u001b[0m__init__\u001b[0m\u001b[1;33m(\u001b[0m\u001b[1;33m)\u001b[0m\u001b[1;33m\u001b[0m\u001b[1;33m\u001b[0m\u001b[0m\n\u001b[1;32m---> 38\u001b[1;33m         \u001b[0mself\u001b[0m\u001b[1;33m.\u001b[0m\u001b[0mvis\u001b[0m \u001b[1;33m=\u001b[0m \u001b[0mmeshcat\u001b[0m\u001b[1;33m.\u001b[0m\u001b[0mVisualizer\u001b[0m\u001b[1;33m(\u001b[0m\u001b[0mzmq_url\u001b[0m\u001b[1;33m=\u001b[0m\u001b[0mzmq_url\u001b[0m\u001b[1;33m)\u001b[0m\u001b[1;33m\u001b[0m\u001b[1;33m\u001b[0m\u001b[0m\n\u001b[0m\u001b[0;32m     39\u001b[0m         \u001b[1;32mif\u001b[0m \u001b[0mopen_browser\u001b[0m\u001b[1;33m:\u001b[0m\u001b[1;33m\u001b[0m\u001b[1;33m\u001b[0m\u001b[0m\n\u001b[0;32m     40\u001b[0m             \u001b[0mself\u001b[0m\u001b[1;33m.\u001b[0m\u001b[0mvis\u001b[0m\u001b[1;33m.\u001b[0m\u001b[0mopen\u001b[0m\u001b[1;33m(\u001b[0m\u001b[1;33m)\u001b[0m\u001b[1;33m\u001b[0m\u001b[1;33m\u001b[0m\u001b[0m\n",
      "\u001b[1;32mD:\\PC\\anaconda3\\lib\\site-packages\\meshcat\\visualizer.py\u001b[0m in \u001b[0;36m__init__\u001b[1;34m(self, zmq_url, window, server_args)\u001b[0m\n\u001b[0;32m     80\u001b[0m     \u001b[1;32mdef\u001b[0m \u001b[0m__init__\u001b[0m\u001b[1;33m(\u001b[0m\u001b[0mself\u001b[0m\u001b[1;33m,\u001b[0m \u001b[0mzmq_url\u001b[0m\u001b[1;33m=\u001b[0m\u001b[1;32mNone\u001b[0m\u001b[1;33m,\u001b[0m \u001b[0mwindow\u001b[0m\u001b[1;33m=\u001b[0m\u001b[1;32mNone\u001b[0m\u001b[1;33m,\u001b[0m \u001b[0mserver_args\u001b[0m\u001b[1;33m=\u001b[0m\u001b[1;33m[\u001b[0m\u001b[1;33m]\u001b[0m\u001b[1;33m)\u001b[0m\u001b[1;33m:\u001b[0m\u001b[1;33m\u001b[0m\u001b[1;33m\u001b[0m\u001b[0m\n\u001b[0;32m     81\u001b[0m         \u001b[1;32mif\u001b[0m \u001b[0mwindow\u001b[0m \u001b[1;32mis\u001b[0m \u001b[1;32mNone\u001b[0m\u001b[1;33m:\u001b[0m\u001b[1;33m\u001b[0m\u001b[1;33m\u001b[0m\u001b[0m\n\u001b[1;32m---> 82\u001b[1;33m             \u001b[0mself\u001b[0m\u001b[1;33m.\u001b[0m\u001b[0mwindow\u001b[0m \u001b[1;33m=\u001b[0m \u001b[0mViewerWindow\u001b[0m\u001b[1;33m(\u001b[0m\u001b[0mzmq_url\u001b[0m\u001b[1;33m=\u001b[0m\u001b[0mzmq_url\u001b[0m\u001b[1;33m,\u001b[0m \u001b[0mstart_server\u001b[0m\u001b[1;33m=\u001b[0m\u001b[1;33m(\u001b[0m\u001b[0mzmq_url\u001b[0m \u001b[1;32mis\u001b[0m \u001b[1;32mNone\u001b[0m\u001b[1;33m)\u001b[0m\u001b[1;33m,\u001b[0m \u001b[0mserver_args\u001b[0m\u001b[1;33m=\u001b[0m\u001b[0mserver_args\u001b[0m\u001b[1;33m)\u001b[0m\u001b[1;33m\u001b[0m\u001b[1;33m\u001b[0m\u001b[0m\n\u001b[0m\u001b[0;32m     83\u001b[0m         \u001b[1;32melse\u001b[0m\u001b[1;33m:\u001b[0m\u001b[1;33m\u001b[0m\u001b[1;33m\u001b[0m\u001b[0m\n\u001b[0;32m     84\u001b[0m             \u001b[0mself\u001b[0m\u001b[1;33m.\u001b[0m\u001b[0mwindow\u001b[0m \u001b[1;33m=\u001b[0m \u001b[0mwindow\u001b[0m\u001b[1;33m\u001b[0m\u001b[1;33m\u001b[0m\u001b[0m\n",
      "\u001b[1;32mD:\\PC\\anaconda3\\lib\\site-packages\\meshcat\\visualizer.py\u001b[0m in \u001b[0;36m__init__\u001b[1;34m(self, zmq_url, start_server, server_args)\u001b[0m\n\u001b[0;32m     19\u001b[0m     \u001b[1;32mdef\u001b[0m \u001b[0m__init__\u001b[0m\u001b[1;33m(\u001b[0m\u001b[0mself\u001b[0m\u001b[1;33m,\u001b[0m \u001b[0mzmq_url\u001b[0m\u001b[1;33m,\u001b[0m \u001b[0mstart_server\u001b[0m\u001b[1;33m,\u001b[0m \u001b[0mserver_args\u001b[0m\u001b[1;33m)\u001b[0m\u001b[1;33m:\u001b[0m\u001b[1;33m\u001b[0m\u001b[1;33m\u001b[0m\u001b[0m\n\u001b[0;32m     20\u001b[0m         \u001b[1;32mif\u001b[0m \u001b[0mstart_server\u001b[0m\u001b[1;33m:\u001b[0m\u001b[1;33m\u001b[0m\u001b[1;33m\u001b[0m\u001b[0m\n\u001b[1;32m---> 21\u001b[1;33m             self.server_proc, self.zmq_url, self.web_url = start_zmq_server_as_subprocess(\n\u001b[0m\u001b[0;32m     22\u001b[0m                 zmq_url=zmq_url, server_args=server_args)\n\u001b[0;32m     23\u001b[0m \u001b[1;33m\u001b[0m\u001b[0m\n",
      "\u001b[1;32mD:\\PC\\anaconda3\\lib\\site-packages\\meshcat\\servers\\zmqserver.py\u001b[0m in \u001b[0;36mstart_zmq_server_as_subprocess\u001b[1;34m(zmq_url, server_args)\u001b[0m\n\u001b[0;32m     67\u001b[0m     \u001b[0mline\u001b[0m \u001b[1;33m=\u001b[0m \u001b[1;34m\"\"\u001b[0m\u001b[1;33m\u001b[0m\u001b[1;33m\u001b[0m\u001b[0m\n\u001b[0;32m     68\u001b[0m     \u001b[1;32mwhile\u001b[0m \u001b[1;34m\"zmq_url\"\u001b[0m \u001b[1;32mnot\u001b[0m \u001b[1;32min\u001b[0m \u001b[0mline\u001b[0m\u001b[1;33m:\u001b[0m\u001b[1;33m\u001b[0m\u001b[1;33m\u001b[0m\u001b[0m\n\u001b[1;32m---> 69\u001b[1;33m         \u001b[0mline\u001b[0m \u001b[1;33m=\u001b[0m \u001b[0mserver_proc\u001b[0m\u001b[1;33m.\u001b[0m\u001b[0mstdout\u001b[0m\u001b[1;33m.\u001b[0m\u001b[0mreadline\u001b[0m\u001b[1;33m(\u001b[0m\u001b[1;33m)\u001b[0m\u001b[1;33m.\u001b[0m\u001b[0mstrip\u001b[0m\u001b[1;33m(\u001b[0m\u001b[1;33m)\u001b[0m\u001b[1;33m.\u001b[0m\u001b[0mdecode\u001b[0m\u001b[1;33m(\u001b[0m\u001b[1;34m\"utf-8\"\u001b[0m\u001b[1;33m)\u001b[0m\u001b[1;33m\u001b[0m\u001b[1;33m\u001b[0m\u001b[0m\n\u001b[0m\u001b[0;32m     70\u001b[0m     \u001b[0mzmq_url\u001b[0m \u001b[1;33m=\u001b[0m \u001b[0mmatch_zmq_url\u001b[0m\u001b[1;33m(\u001b[0m\u001b[0mline\u001b[0m\u001b[1;33m)\u001b[0m\u001b[1;33m\u001b[0m\u001b[1;33m\u001b[0m\u001b[0m\n\u001b[0;32m     71\u001b[0m     \u001b[0mweb_url\u001b[0m \u001b[1;33m=\u001b[0m \u001b[0mmatch_web_url\u001b[0m\u001b[1;33m(\u001b[0m\u001b[0mserver_proc\u001b[0m\u001b[1;33m.\u001b[0m\u001b[0mstdout\u001b[0m\u001b[1;33m.\u001b[0m\u001b[0mreadline\u001b[0m\u001b[1;33m(\u001b[0m\u001b[1;33m)\u001b[0m\u001b[1;33m.\u001b[0m\u001b[0mstrip\u001b[0m\u001b[1;33m(\u001b[0m\u001b[1;33m)\u001b[0m\u001b[1;33m.\u001b[0m\u001b[0mdecode\u001b[0m\u001b[1;33m(\u001b[0m\u001b[1;34m\"utf-8\"\u001b[0m\u001b[1;33m)\u001b[0m\u001b[1;33m)\u001b[0m\u001b[1;33m\u001b[0m\u001b[1;33m\u001b[0m\u001b[0m\n",
      "\u001b[1;31mKeyboardInterrupt\u001b[0m: "
     ]
    }
   ],
   "source": [
    "renderer = MeshcatRenderer(wireframe=True)\n",
    "renderer.render(scene)\n",
    "renderer.vis.jupyter_cell()"
   ]
  },
  {
   "cell_type": "code",
   "execution_count": null,
   "metadata": {},
   "outputs": [],
   "source": [
    "_ = interact_ray(scene, renderer)"
   ]
  },
  {
   "cell_type": "markdown",
   "metadata": {},
   "source": [
    "The `interact_ray` function makes a Ray,"
   ]
  },
  {
   "cell_type": "code",
   "execution_count": 10,
   "metadata": {},
   "outputs": [],
   "source": [
    "ray = Ray(\n",
    "    position=(0.0, 0.0, 0.0),\n",
    "    direction=(0.0, 0.0, 1.0),\n",
    "    wavelength=555.0\n",
    ")"
   ]
  },
  {
   "cell_type": "markdown",
   "metadata": {},
   "source": [
    "and every time the one of the slides changes and retraces the scene.\n",
    "\n",
    "Rays are a simple data structure containing `position`, `direction` and `wavelength`."
   ]
  },
  {
   "cell_type": "markdown",
   "metadata": {},
   "source": [
    "## Getting trace data\n",
    "\n",
    "Use the `follow` function, from the `photon_tracer` module, to get a list of interaction points and event types that a ray made with the scene."
   ]
  },
  {
   "cell_type": "code",
   "execution_count": 6,
   "metadata": {},
   "outputs": [],
   "source": [
    "np.random.seed(0)\n",
    "steps = photon_tracer.follow(scene, ray)"
   ]
  },
  {
   "cell_type": "code",
   "execution_count": 7,
   "metadata": {},
   "outputs": [
    {
     "data": {
      "text/plain": [
       "'GENERATE: Ray(pos=(0.00, 0.00, 0.00), dir=(0.00, 0.00, 1.00), nm=555.00, alive=True)'"
      ]
     },
     "execution_count": 7,
     "metadata": {},
     "output_type": "execute_result"
    }
   ],
   "source": [
    "r, e = steps[0]\n",
    "f\"{e.name}: {r}\""
   ]
  },
  {
   "cell_type": "markdown",
   "metadata": {},
   "source": [
    "At the first step the ray is generated with the values we specify."
   ]
  },
  {
   "cell_type": "code",
   "execution_count": 8,
   "metadata": {},
   "outputs": [
    {
     "data": {
      "text/plain": [
       "'TRANSMIT: Ray(pos=(0.00, 0.00, 1.00), dir=(0.00, 0.00, 1.00), nm=555.00, alive=True)'"
      ]
     },
     "execution_count": 8,
     "metadata": {},
     "output_type": "execute_result"
    }
   ],
   "source": [
    "r, e = steps[1]\n",
    "f\"{e.name}: {r}\""
   ]
  },
  {
   "cell_type": "markdown",
   "metadata": {},
   "source": [
    "The ray hits the small glass sphere and is transmitted. "
   ]
  },
  {
   "cell_type": "code",
   "execution_count": 9,
   "metadata": {},
   "outputs": [
    {
     "data": {
      "text/plain": [
       "'EXIT: Ray(pos=(0.00, 0.00, 10.00), dir=(0.00, 0.00, 1.00), nm=555.00, alive=True)'"
      ]
     },
     "execution_count": 9,
     "metadata": {},
     "output_type": "execute_result"
    }
   ],
   "source": [
    "r, e = steps[2]\n",
    "f\"{e.name}: {r}\""
   ]
  },
  {
   "cell_type": "markdown",
   "metadata": {},
   "source": [
    "Finally the ray exits the scene by hitting the world sphere."
   ]
  },
  {
   "cell_type": "markdown",
   "metadata": {},
   "source": [
    "Full list of events is described by the enum,\n",
    "\n",
    "```python\n",
    "class Event(Enum):\n",
    "    GENERATE = 0\n",
    "    REFLECT = 1\n",
    "    TRANSMIT = 2\n",
    "    ABSORB = 3\n",
    "    SCATTER = 4\n",
    "    EMIT = 5\n",
    "    EXIT = 6\n",
    "    KILL = 7\n",
    "```"
   ]
  },
  {
   "cell_type": "markdown",
   "metadata": {},
   "source": [
    "This gives a hint of the other capabilities of pvtrace which will be covered in the next tutorials."
   ]
  }
 ],
 "metadata": {
  "kernelspec": {
   "display_name": "Python 3",
   "language": "python",
   "name": "python3"
  },
  "language_info": {
   "codemirror_mode": {
    "name": "ipython",
    "version": 3
   },
   "file_extension": ".py",
   "mimetype": "text/x-python",
   "name": "python",
   "nbconvert_exporter": "python",
   "pygments_lexer": "ipython3",
   "version": "3.8.5-final"
  }
 },
 "nbformat": 4,
 "nbformat_minor": 2
}